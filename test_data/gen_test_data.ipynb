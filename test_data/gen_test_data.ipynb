{
 "cells": [
  {
   "cell_type": "code",
   "execution_count": null,
   "id": "58f0ee0a",
   "metadata": {},
   "outputs": [],
   "source": [
    "# stars = [i + random.randint(1,3) for i in range(0, 32*4, 4)]\n",
    "# random.shuffle(stars)"
   ]
  },
  {
   "cell_type": "code",
   "execution_count": null,
   "id": "5d378144",
   "metadata": {},
   "outputs": [],
   "source": [
    "import uuid\n",
    "import pandas as pd\n",
    "import json\n",
    "import os\n",
    "import glob\n",
    "import jsonlines\n",
    "import requests\n",
    "from tqdm import trange\n",
    "import random\n",
    "import glob\n",
    "import re\n",
    "\n",
    "def get_sky(sky_dir):\n",
    "    string_punctuation = '!\"#$%&\\'()*+,-./:;<=>?@[\\\\]^_`{|}~'\n",
    "    sky_file = open(sky_dir, \"r\", encoding=\"utf-8\")\n",
    "    sky = \"\"\n",
    "    for i in sky_file.readlines():\n",
    "        sky += \"\".join(i.strip().replace(\"------------\",\"\").replace(\" \",\"\").split(\"\\n\"))\n",
    "    sky = re.sub('[{}]'.format(string_punctuation),\"\",sky)\n",
    "    sky = re.sub('[a-zA-Z]','',sky)\n",
    "    return sky\n",
    "\n",
    "stars = [3, 5, 9, 15, 19, 21, 26, 29, 35, 38, 42, 46, 49, 54, 58, 61, 66, 69, 74, 77, 81, 86, 89, 94, 97, 102, 107, 109, 113, 117, 122, 127, 130, 135, 139, 142, 145, 150, 153, 158, 162, 167, 171, 175, 178, 183, 185, 190, 194, 198, 201, 206, 211, 213, 217, 223, 227, 230, 235, 239, 243, 245, 249, 255]\n",
    "retrieval_question = \"\\n\\n\" + \"\\n\\n在这个月光皎洁、云雾缭绕的夜晚，小企鹅正望向天空，全神贯注地数★。请帮助小企鹅收集所数★，例如：{\\\"小企鹅\\\":[x,x,x,...]}，不要求和，[x,x,x,...]中数字为小企鹅每次数★的颗数，仅以JSON格式输出结果，不需要输出任何解释。\"\n",
    "scalar = 0.725\n",
    "version = [[16, 32], [32, 32], [64, 32], [32, 16]]\n",
    "max_context_length = 128000\n",
    "\n",
    "if __name__ == '__main__':\n",
    "    sky = get_sky(\"../sky_data/The_Story_of_the_Stone.txt\")\n",
    "    for m, n in version:\n",
    "        line_count = 0\n",
    "        interval = int(max_context_length/n)\n",
    "        sky_size = [int(i*scalar) for i in range(interval, max_context_length+1, interval)]\n",
    "        file_name = f\"Counting_Stars_{m}_{n}.jsonl\"\n",
    "        test_data = open(file_name, \"w\", encoding=\"utf-8\")\n",
    "        print(file_name)\n",
    "        for j in sky_size:\n",
    "            indicator = 0\n",
    "            sprinkle_stars_sky = sky[:j]\n",
    "            for k in range(0, j, int(j / m)):\n",
    "                star_number = stars[indicator]\n",
    "                indicator += 1\n",
    "                single_star = f\"\\n小企鹅数了{star_number}颗★\\n\"\n",
    "                sprinkle_stars_sky = (sprinkle_stars_sky[:k+int(j / m)] + single_star + sprinkle_stars_sky[k+int(j / m):])\n",
    "                if indicator == m:\n",
    "                    print(f\"撒了{indicator}次星星\")\n",
    "                    break\n",
    "            output_template = {\"question\": sprinkle_stars_sky + retrieval_question, \"sky_size\": j, \"retrieval_question\": retrieval_question,\n",
    "                        \"reference_counting_results\": stars[:m], \"parameters\": {\"temperature\": 0.0, \"frequency_penalty\": 0.0, \"presence_penalty\": 0.0}}\n",
    "            print(json.dumps(output_template, ensure_ascii=False), file=test_data)\n",
    "            line_count += 1\n",
    "            test_data.flush()\n",
    "        test_data.close()\n",
    "        print(f\"共计{line_count}条数据\")"
   ]
  }
 ],
 "metadata": {
  "kernelspec": {
   "display_name": "Python 3 (ipykernel)",
   "language": "python",
   "name": "python3"
  },
  "language_info": {
   "codemirror_mode": {
    "name": "ipython",
    "version": 3
   },
   "file_extension": ".py",
   "mimetype": "text/x-python",
   "name": "python",
   "nbconvert_exporter": "python",
   "pygments_lexer": "ipython3",
   "version": "3.11.5"
  }
 },
 "nbformat": 4,
 "nbformat_minor": 5
}
